{
  "nbformat": 4,
  "nbformat_minor": 0,
  "metadata": {
    "kernelspec": {
      "display_name": "Python 3",
      "language": "python",
      "name": "python3"
    },
    "language_info": {
      "codemirror_mode": {
        "name": "ipython",
        "version": 3
      },
      "file_extension": ".py",
      "mimetype": "text/x-python",
      "name": "python",
      "nbconvert_exporter": "python",
      "pygments_lexer": "ipython3",
      "version": "3.6.6"
    },
    "colab": {
      "name": "01-Milestone Project 1 - Assignment.ipynb",
      "provenance": [],
      "include_colab_link": true
    }
  },
  "cells": [
    {
      "cell_type": "markdown",
      "metadata": {
        "id": "view-in-github",
        "colab_type": "text"
      },
      "source": [
        "<a href=\"https://colab.research.google.com/github/Deadpool4099/python/blob/main/01_Milestone_Project_1_Assignment.ipynb\" target=\"_parent\"><img src=\"https://colab.research.google.com/assets/colab-badge.svg\" alt=\"Open In Colab\"/></a>"
      ]
    },
    {
      "cell_type": "markdown",
      "metadata": {
        "id": "rtlP1syerzdQ"
      },
      "source": [
        "___\n",
        "\n",
        "<a href='https://www.udemy.com/user/joseportilla/'><img src='../Pierian_Data_Logo.png'/></a>\n",
        "___\n",
        "<center><em>Content Copyright by Pierian Data</em></center>"
      ]
    },
    {
      "cell_type": "markdown",
      "metadata": {
        "id": "ZC2r4FD6rzdX"
      },
      "source": [
        "# Milestone Project 1\n",
        "## Congratulations on making it to your first milestone!\n",
        "You've already learned a ton and are ready to work on a real project.\n",
        "\n",
        "Your assignment: Create a Tic Tac Toe game. You are free to use any IDE you like.\n",
        "\n",
        "Here are the requirements:\n",
        "\n",
        "* 2 players should be able to play the game (both sitting at the same computer)\n",
        "* The board should be printed out every time a player makes a move\n",
        "* You should be able to accept input of the player position and then place a symbol on the board\n",
        "\n",
        "Feel free to use Google to help you figure anything out (but don't just Google \"Tic Tac Toe in Python\" otherwise you won't learn anything!) Keep in mind that this project can take anywhere between several hours to several days.\n",
        "\n",
        "There are 4 Jupyter Notebooks related to this assignment:\n",
        "\n",
        "* This Assignment Notebook\n",
        "* A \"Walkthrough Steps Workbook\" Notebook\n",
        "* A \"Complete Walkthrough Solution\" Notebook\n",
        "* An \"Advanced Solution\" Notebook\n",
        "\n",
        "I encourage you to just try to start the project on your own without referencing any of the notebooks. If you get stuck, check out the next lecture which is a text lecture with helpful hints and steps. If you're still stuck after that, then check out the Walkthrough Steps Workbook, which breaks up the project in steps for you to solve. Still stuck? Then check out the Complete Walkthrough Solution video for more help on approaching the project!"
      ]
    },
    {
      "cell_type": "markdown",
      "metadata": {
        "id": "5ztD0ffNrzdX"
      },
      "source": [
        "There are parts of this that will be a struggle...and that is good! I have complete faith that if you have made it this far through the course you have all the tools and knowledge to tackle this project. Remember, it's totally open book, so take your time, do a little research, and remember:\n",
        "\n",
        "## HAVE FUN!"
      ]
    },
    {
      "cell_type": "code",
      "metadata": {
        "id": "7l20GnU-vMFs"
      },
      "source": [
        "Tic_Tac_Toe_Board = [['-','-','-'],\r\n",
        "                     ['-','-','-'],\r\n",
        "                     ['-','-','-']]"
      ],
      "execution_count": null,
      "outputs": []
    },
    {
      "cell_type": "code",
      "metadata": {
        "id": "zaRGaOZNS8T5"
      },
      "source": [
        "def print_board():\r\n",
        "    for i in Tic_Tac_Toe_Board:\r\n",
        "        for j in i:\r\n",
        "            print(j,end = ' | ')\r\n",
        "        print(end = '\\n')\r\n",
        "        print('--|---|---|')"
      ],
      "execution_count": null,
      "outputs": []
    },
    {
      "cell_type": "code",
      "metadata": {
        "id": "kpm4tjj0UxSi"
      },
      "source": [
        "def wanna_play():\r\n",
        "    v = 'nil'\r\n",
        "    while v not in ['Y','N']:\r\n",
        "        v = input('Do you wanna continue(Y / N): ')\r\n",
        "        if v not in ['Y','N']:\r\n",
        "            print('Enter a Valid input')\r\n",
        "    return v == 'Y'"
      ],
      "execution_count": null,
      "outputs": []
    },
    {
      "cell_type": "code",
      "metadata": {
        "id": "x7FUEn_8v9pf"
      },
      "source": [
        "def row_value():\r\n",
        "    value = 'nil'\r\n",
        "    while value not in ['0','1','2']:\r\n",
        "        value = input('Enter a row number (0,1,2): ')\r\n",
        "        if value not in ['0','1','2']:\r\n",
        "            print('Not a valid row number!')\r\n",
        "    return int(value)\r\n"
      ],
      "execution_count": null,
      "outputs": []
    },
    {
      "cell_type": "code",
      "metadata": {
        "id": "bacycYinxgdd"
      },
      "source": [
        "def pos_value():\r\n",
        "    value = 'nil'\r\n",
        "    while value not in ['0','1','2']:\r\n",
        "        value = input('Enter a position number (0,1,2): ')\r\n",
        "        if value not in ['0','1','2']:\r\n",
        "            print('Not a valid row number!')\r\n",
        "    return int(value)"
      ],
      "execution_count": null,
      "outputs": []
    },
    {
      "cell_type": "code",
      "metadata": {
        "id": "UJW6AL4czNST"
      },
      "source": [
        "def replace_by(a,row_val,pos_val):\r\n",
        "    if Tic_Tac_Toe_Board[row_val][pos_val] == '-':\r\n",
        "        Tic_Tac_Toe_Board[row_val][pos_val] = a"
      ],
      "execution_count": null,
      "outputs": []
    },
    {
      "cell_type": "code",
      "metadata": {
        "id": "94RzTEpe1Pq5"
      },
      "source": [
        "def play():\r\n",
        "    count = 1\r\n",
        "    first = Tic_Tac_Toe_Board[0]\r\n",
        "    second = Tic_Tac_Toe_Board[1]\r\n",
        "    third = Tic_Tac_Toe_Board[2]\r\n",
        "    p1 = input('select a character for player 1: ')\r\n",
        "    while True:\r\n",
        "        p2 = input('Select a character for player 2: ')\r\n",
        "        if p1 == p2:\r\n",
        "            print('Please select a character different from player 1')\r\n",
        "        else:\r\n",
        "            break\r\n",
        "    print('____________________________________________________________________________________________________________________\\n')\r\n",
        "    while '-' in first or '-' in second or '-' in third:            \r\n",
        "        if count % 2 == 1:\r\n",
        "            print('Turn of Player 1\\n')\r\n",
        "            r = row_value()\r\n",
        "            p = pos_value()\r\n",
        "            if Tic_Tac_Toe_Board[r][p] != '-':\r\n",
        "                print('Position occupied! Enter an empty position by looking at the board.')\r\n",
        "            else:\r\n",
        "                replace_by(p1,r,p)\r\n",
        "                count += 1\r\n",
        "        else:\r\n",
        "            print('Turn of Player 2\\n')\r\n",
        "            r = row_value()\r\n",
        "            p = pos_value()\r\n",
        "            if Tic_Tac_Toe_Board[r][p] != '-':\r\n",
        "                print('Position occupied! Enter an empty position by looking at the board.')\r\n",
        "            else:\r\n",
        "                replace_by(p2,r,p)\r\n",
        "                count += 1\r\n",
        "        print_board()\r\n",
        "        print('__________________________________________________\\n')\r\n",
        "        if first == [p1] * 3 or third == [p1] * 3 or second == [p1] * 3:\r\n",
        "            print('Player 1 Won!')\r\n",
        "            break\r\n",
        "        elif first == [p2] * 3 or third == [p2] * 3 or second == [p2] * 3:\r\n",
        "            print('Player 2 Won!')\r\n",
        "            break\r\n",
        "        elif [first[0],second[1],third[2]] == [p1] * 3 or [first[2],second[1],third[0]] == [p1] * 3:\r\n",
        "            print('Player 1 Won!')\r\n",
        "            break\r\n",
        "        elif [first[0],second[1],third[2]] == [p2] * 3 or [first[2],second[1],third[0]] == [p2] * 3:\r\n",
        "            print('Player 2 Won!')\r\n",
        "            break\r\n",
        "        elif [first[0],second[0],third[0]] == [p1] * 3 or [first[1],second[1],third[1]] == [p1] * 3 or [first[2],second[2],third[2]] == [p1] * 3:\r\n",
        "            print('Player 1 Won!')\r\n",
        "            break\r\n",
        "        elif [first[0],second[0],third[0]] == [p2] * 3 or [first[1],second[1],third[1]] == [p2] * 3 or [first[2],second[2],third[2]] == [p2] * 3:\r\n",
        "            print('Player 2 Won!')\r\n",
        "            break\r\n",
        "    else:\r\n",
        "        print('Game Drawn!')"
      ],
      "execution_count": null,
      "outputs": []
    },
    {
      "cell_type": "code",
      "metadata": {
        "id": "A9LWOqfY3kU-"
      },
      "source": [
        "play()"
      ],
      "execution_count": null,
      "outputs": []
    }
  ]
}
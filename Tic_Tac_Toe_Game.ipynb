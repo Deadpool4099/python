{
  "nbformat": 4,
  "nbformat_minor": 0,
  "metadata": {
    "kernelspec": {
      "display_name": "Python 3",
      "language": "python",
      "name": "python3"
    },
    "language_info": {
      "codemirror_mode": {
        "name": "ipython",
        "version": 3
      },
      "file_extension": ".py",
      "mimetype": "text/x-python",
      "name": "python",
      "nbconvert_exporter": "python",
      "pygments_lexer": "ipython3",
      "version": "3.6.6"
    },
    "colab": {
      "name": "Tic_Tac_Toe Game.ipynb",
      "provenance": [],
      "include_colab_link": true
    }
  },
  "cells": [
    {
      "cell_type": "markdown",
      "metadata": {
        "id": "view-in-github",
        "colab_type": "text"
      },
      "source": [
        "<a href=\"https://colab.research.google.com/github/Deadpool4099/python/blob/main/Tic_Tac_Toe_Game.ipynb\" target=\"_parent\"><img src=\"https://colab.research.google.com/assets/colab-badge.svg\" alt=\"Open In Colab\"/></a>"
      ]
    },
    {
      "cell_type": "code",
      "metadata": {
        "id": "7l20GnU-vMFs"
      },
      "source": [
        "B = ['#''-','-','-','-','-','-','-','-','-','-']"
      ],
      "execution_count": null,
      "outputs": []
    },
    {
      "cell_type": "code",
      "metadata": {
        "id": "zaRGaOZNS8T5"
      },
      "source": [
        "def print_board(board):\r\n",
        "    print(board[7] + ' | ' + board[8] + ' | ' + board[9])\r\n",
        "    print('--|---|---')\r\n",
        "    print(board[4] + ' | ' + board[5] + ' | ' + board[6])\r\n",
        "    print('--|---|---')\r\n",
        "    print(board[1] + ' | ' + board[2] + ' | ' + board[3])\r\n",
        "    "
      ],
      "execution_count": null,
      "outputs": []
    },
    {
      "cell_type": "code",
      "metadata": {
        "id": "kpm4tjj0UxSi"
      },
      "source": [
        "def wanna_play():\r\n",
        "    v = 'nil'\r\n",
        "    while v not in ['Y','N']:\r\n",
        "        v = input('Do you wanna continue(Y / N): ')\r\n",
        "        if v not in ['Y','N']:\r\n",
        "            print('Enter a Valid input')\r\n",
        "    return v == 'Y'"
      ],
      "execution_count": null,
      "outputs": []
    },
    {
      "cell_type": "code",
      "metadata": {
        "id": "bacycYinxgdd"
      },
      "source": [
        "def pos_value():\r\n",
        "    value = 'nil'\r\n",
        "    while value not in range(1,10):\r\n",
        "        value = int(input('Enter a position number (1-9): '))\r\n",
        "        if value not in range(1,10):\r\n",
        "            print('Not a valid row number!')\r\n",
        "    return value"
      ],
      "execution_count": null,
      "outputs": []
    },
    {
      "cell_type": "code",
      "metadata": {
        "id": "UJW6AL4czNST"
      },
      "source": [
        "def replace_by(a,pos_val):\r\n",
        "    if BOARD[pos_val] == '-':\r\n",
        "        BOARD[pos_val] = a"
      ],
      "execution_count": null,
      "outputs": []
    },
    {
      "cell_type": "code",
      "metadata": {
        "id": "94RzTEpe1Pq5"
      },
      "source": [
        "def play():\n",
        "    count = 1\n",
        "    p1 = input('select a character for player 1: ')\n",
        "    while True:\n",
        "        p2 = input('Select a character for player 2: ')\n",
        "        if p1 == p2:\n",
        "            print('Please select a character different from player 1')\n",
        "        else:\n",
        "            break\n",
        "    print('____________________________________________________________________________________________________________________\\n')\n",
        "    w1 = [p1] * 3\n",
        "    w2 = [p2] * 3\n",
        "    while '-' not in B:            \n",
        "        if count % 2 == 1:\n",
        "            print('Turn of Player 1\\n')\n",
        "            p = pos_value()\n",
        "            if B[p] != '-':\n",
        "                print('Position occupied! Enter an empty position by looking at the board.')\n",
        "            else:\n",
        "                replace_by(p1,p)\n",
        "                count += 1\n",
        "        else:\n",
        "            print('Turn of Player 2\\n')\n",
        "            p = pos_value()\n",
        "            if B[p] != '-':\n",
        "                print('Position occupied! Enter an empty position by looking at the board.')\n",
        "            else:\n",
        "                replace_by(p2,p)\n",
        "                count += 1\n",
        "        print_board(B)\n",
        "        print('__________________________________________________\\n')\n",
        "        if B[1:4] == w1 or B[4:7] == w1 or B[7:] == w1:\n",
        "            print('Player 1 Won!')\n",
        "            break\n",
        "        elif B[1:4] == w2 or B[4:7] == w2 or B[7:] == w2:\n",
        "            print('Player 2 Won!')\n",
        "            break\n",
        "        elif [B[1],B[5],B[9]] == w1 or [B[3],B[5],B[7]] == w1:\n",
        "            print('Player 1 Won!')\n",
        "            break\n",
        "        elif [B[1],B[5],B[9]] == w1 or [B[3],B[5],B[7]] == w1:\n",
        "            print('Player 2 Won!')\n",
        "            break\n",
        "        elif [B[1],B[4],B[7]] == w1 or [B[2],B[5],B[8]] == w1 or [B[3],B[6],B[9]] == w1:\n",
        "            print('Player 1 Won!')\n",
        "            break\n",
        "        elif [B[1],B[4],B[7]] == w1 or [B[2],B[5],B[8]] == w1 or [B[3],B[6],B[9]] == w1:\n",
        "            print('Player 2 Won!')\n",
        "            break\n",
        "    else:\n",
        "        print('Game Drawn!')"
      ],
      "execution_count": null,
      "outputs": []
    },
    {
      "cell_type": "code",
      "metadata": {
        "id": "A9LWOqfY3kU-"
      },
      "source": [
        "play()"
      ],
      "execution_count": null,
      "outputs": []
    }
  ]
}